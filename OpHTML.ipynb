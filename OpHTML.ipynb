{
 "cells": [
  {
   "cell_type": "markdown",
   "metadata": {},
   "source": [
    "## Part 1 Build Dataset"
   ]
  },
  {
   "cell_type": "code",
   "execution_count": 1,
   "metadata": {},
   "outputs": [
    {
     "name": "stdout",
     "output_type": "stream",
     "text": [
      "\n"
     ]
    },
    {
     "name": "stderr",
     "output_type": "stream",
     "text": [
      " 33%|███▎      | 186/572 [00:00<00:00, 921.33it/s]"
     ]
    },
    {
     "name": "stdout",
     "output_type": "stream",
     "text": [
      "Error Company: Aetna IncDate: 2017-01-31\n",
      "Error Company: Aetna IncDate: 2017-05-02\n",
      "Error Company: Aetna IncDate: 2017-10-31\n",
      "Error Company: CA, Inc.Date: 2017-08-02\n"
     ]
    },
    {
     "name": "stderr",
     "output_type": "stream",
     "text": [
      "100%|██████████| 572/572 [00:00<00:00, 930.02it/s]\n"
     ]
    },
    {
     "name": "stdout",
     "output_type": "stream",
     "text": [
      "Error Company: Vulcan MaterialsDate: 2017-08-02\n",
      "0.0\n",
      "563\n"
     ]
    },
    {
     "name": "stderr",
     "output_type": "stream",
     "text": [
      " 48%|████▊     | 274/572 [00:00<00:00, 1361.68it/s]"
     ]
    },
    {
     "name": "stdout",
     "output_type": "stream",
     "text": [
      "Error Company: Aetna IncDate: 2017-01-31\n",
      "Error Company: Aetna IncDate: 2017-05-02\n",
      "Error Company: Aetna IncDate: 2017-10-31\n",
      "Error Company: CA, Inc.Date: 2017-08-02\n"
     ]
    },
    {
     "name": "stderr",
     "output_type": "stream",
     "text": [
      "100%|██████████| 572/572 [00:00<00:00, 1378.45it/s]\n"
     ]
    },
    {
     "name": "stdout",
     "output_type": "stream",
     "text": [
      "Error Company: Vulcan MaterialsDate: 2017-08-02\n",
      "24.237429941531154\n",
      "563\n"
     ]
    }
   ],
   "source": [
    "import tools1\n",
    "import tools\n",
    "import pickle\n",
    "import numpy as np\n",
    "\n",
    "def make_sorted_list_and_save(days):\n",
    "    pickle_in = open(\"stock_price_dict.pickle\",\"rb\")\n",
    "    price_dict_ = pickle.load(pickle_in)\n",
    "    DATA_DIR = '.\\EarningsCallData\\ACL19_Release\\ACL19_Release'\n",
    "    stock_volatility_3days, text_all, date, company = tools1.calculate_volatility(price_dict_, days, DATA_DIR)\n",
    "    combined_list = list(zip(date, stock_volatility_3days, company, text_all))\n",
    "    print(len(combined_list))\n",
    "    sorted_list1 = sorted(combined_list, key=lambda x: x[0])#按照列表中元素的第一个索引（日期）进行排序\n",
    "\n",
    "    np.save(f'sorted_volatility_{days}days.npy', sorted_list1)\n",
    "\n",
    "    stock_movement_3days, text_all, date, company = tools.calculate_movement(price_dict_, days, DATA_DIR)\n",
    "    combined_list = list(zip(date, stock_movement_3days, company, text_all)) #进行数据的聚合、组合或并行处理。\n",
    "    print(len(combined_list))\n",
    "    sorted_list2 = sorted(combined_list, key=lambda x: x[0])#按照列表中元素的第一个索引（日期）进行排序\n",
    "\n",
    "    np.save(f'sorted_movement_{days}days.npy', sorted_list2)\n",
    "\n",
    "def make_and_save(days):\n",
    "    make_sorted_list_and_save(days)\n",
    "\n",
    "if __name__ == \"__main__\":\n",
    "    print()\n",
    "    make_and_save(3)"
   ]
  },
  {
   "cell_type": "code",
   "execution_count": null,
   "metadata": {},
   "outputs": [],
   "source": [
    "import pandas as pd\n",
    "df = pd.read_csv('FeatureList.csv', header=None, index_col=0)\n",
    "print(df)\n",
    "df.shape\n",
    "np.save(f\"sorted_audio_3days.npy\", df)"
   ]
  },
  {
   "cell_type": "markdown",
   "metadata": {},
   "source": [
    "## Part 2 Token-Level Encoder"
   ]
  },
  {
   "cell_type": "code",
   "execution_count": 2,
   "metadata": {},
   "outputs": [
    {
     "name": "stdout",
     "output_type": "stream",
     "text": [
      "\n"
     ]
    },
    {
     "name": "stderr",
     "output_type": "stream",
     "text": [
      "100%|██████████| 563/563 [10:24<00:00,  1.11s/it]\n",
      "100%|██████████| 563/563 [10:37<00:00,  1.13s/it]\n"
     ]
    }
   ],
   "source": [
    "from transformers import AutoTokenizer, AutoModelForSequenceClassification\n",
    "import transformers\n",
    "from tqdm import tqdm #用于在循环迭代中显示进度条的库\n",
    "import torch\n",
    "import re\n",
    "\n",
    "#Generate sentence representation 使用预训练的语言模型来计算文本的嵌入表示\n",
    "def replace_large_values(input_ids):\n",
    "    new_ids = input_ids.clone()\n",
    "    for i in range(len(input_ids)):\n",
    "        for j in range(len(input_ids[i])):\n",
    "            if new_ids[i, j] > 10 and j + 1 < len(input_ids[i]):\n",
    "                new_ids[i, j] = input_ids[i, j + 1]\n",
    "    return new_ids\n",
    "\n",
    "def emb_str(text_list):\n",
    "    text = \"\\n\".join(text_list)\n",
    "    input_ids = torch.tensor([tokenizer.encode(text, truncation=True, max_length=512)])  # 不需要 add_special_tokens=True\n",
    "\n",
    "    with torch.no_grad():\n",
    "        outputs = model.bert(input_ids)  # 使用 model.bert 来提取 BERT 模型的输出\n",
    "        last_hidden_states = outputs.last_hidden_state\n",
    "        emb = last_hidden_states.cpu().numpy()\n",
    "\n",
    "    return emb\n",
    "        \n",
    "# Padding\n",
    "def make(days,name):\n",
    "    list = np.load(f\"sorted_{name}_{days}days.npy\")\n",
    "    embs = []\n",
    "    labels = []\n",
    "    sentence_len = []\n",
    "    features = []\n",
    "    numbertypes = []\n",
    "    for i in tqdm(range(len(list))):\n",
    "        # print(list[i])\n",
    "        text = (list[i][2] + \"\\n\" + list[i][3]).split(\"\\n\")#company \\n text contnent\n",
    "        sentence_len.append(len(text))\n",
    "        text_embs = emb_str(text)\n",
    "        text_embs = np.squeeze(text_embs)#将 text_embs 中的单维度条目进行删除，以便在后续的处理中更方便地使用\n",
    "        # text_embs = np.concatenate((text_embs, np.array([np.array(past_volatility_all[i])] * len(text_embs))), axis=1)\n",
    "        embs.append(text_embs)\n",
    "        labels.append(float(list[i][1]))#movement value->labels\n",
    "\n",
    "        # 提取理解数据大小作为数字特征\n",
    "        numbers = [float(num) for num in re.findall(r'-?\\d+(?:\\.\\d+)?', \"\\n\".join(text))]\n",
    "        if len(numbers) > 0:\n",
    "            feature = np.mean(numbers)  # 使用平均值作为数字特征\n",
    "            features.append(feature)  # 将数字特征添加到对应的样本中\n",
    "        # 提取数字类别\n",
    "        for num in numbers:\n",
    "            if num.is_integer():\n",
    "                numbertypes.append(0)  # 整数\n",
    "            else:\n",
    "                numbertypes.append(1)  # 小数\n",
    "\n",
    "    emb_dim = embs[0].shape[1]\n",
    "    b = np.zeros([len(embs), max(sentence_len), emb_dim])\n",
    "    for i, j in enumerate(embs):\n",
    "        b[i, :j.shape[0], :] = j\n",
    "\n",
    "    np.save(f\"{name}_embed_{days}days.npy\", b)\n",
    "    np.save(f\"{name}_label_days.npy\", labels)\n",
    "    np.save(f\"{name}_features_{days}days.npy\", features)\n",
    "    np.save(f\"{name}_type_{days}days.npy\", numbertypes)\n",
    "\n",
    "def make_emb(days):\n",
    "    make(days, \"volatility\")\n",
    "    make(days, \"movement\")\n",
    "\n",
    "if __name__ == \"__main__\":\n",
    "    print()\n",
    "    model = AutoModelForSequenceClassification.from_pretrained('ProsusAI/finbert')#通过加载预训练的BERT模型来创建一个BERT模型实例\n",
    "    tokenizer = AutoTokenizer.from_pretrained('ProsusAI/finbert')\n",
    "    make_emb(3)"
   ]
  },
  {
   "cell_type": "markdown",
   "metadata": {},
   "source": [
    "## Part 3 Customized Sentence-level Transformer"
   ]
  },
  {
   "cell_type": "code",
   "execution_count": 3,
   "metadata": {},
   "outputs": [],
   "source": [
    "import torch\n",
    "from torch import nn\n",
    "import torch.nn.functional as F\n",
    "\n",
    "import random, math"
   ]
  },
  {
   "cell_type": "code",
   "execution_count": 4,
   "metadata": {},
   "outputs": [],
   "source": [
    "#给定的批量矩阵中进行遮蔽操作\n",
    "def mask_(matrices, maskval=0.0, mask_diagonal=True):\n",
    "    \"\"\"\n",
    "    Masks out all values in the given batch of matrices where i <= j holds,\n",
    "    i < j if mask_diagonal is false\n",
    "\n",
    "    In place operation\n",
    "\n",
    "    :param tns:\n",
    "    :return:\n",
    "    \"\"\"\n",
    "    #在遮蔽过程中，矩阵中满足条件 i <= j（如果mask_diagonal为True）或 i < j（如果mask_diagonal为False）的元素将被遮蔽（置为指定的maskval值）。\n",
    "    b, h, w = matrices.size()#函数的输入参数matrices是一个大小为 (batch_size, height, width) 的张量，表示一批矩阵。maskval参数是要用于遮蔽的值，默认为0.0。mask_diagonal参数控制是否遮蔽对角线上的元素，默认为True，即遮蔽对角线上的元素\n",
    "\n",
    "    indices = torch.triu_indices(h, w, offset=0 if mask_diagonal else 1)#生成一个大小为 (2, num_indices) 的张量，其中 num_indices 是根据矩阵大小和遮蔽对角线的设置计算得到的索引数量。这个张量包含了上三角部分（包括或不包括对角线）的索引\n",
    "    matrices[:, indices[0], indices[1]] = maskval #将遮蔽值 maskval 赋值给 matrices 张量中对应索引的位置。通过这样的操作，上三角部分的元素将被遮蔽（置为指定的遮蔽值），而下三角部分的元素将保持不变\n",
    "\n",
    "\n",
    "\n",
    "def contains_nan(tensor):\n",
    "    return bool((tensor != tensor).sum() > 0)#检查张量中是否包含NaN\n",
    "\n",
    "\n",
    "\n",
    "# Self-Attention 自注意力机制是用于捕捉序列数据中不同位置之间的关联关系\n",
    "class SelfAttention(nn.Module):\n",
    "    def __init__(self, emb, heads=8, mask=False):\n",
    "        \"\"\"\n",
    "        :param emb:\n",
    "        :param heads:\n",
    "        :param mask:\n",
    "        \"\"\"\n",
    "\n",
    "        super().__init__()#表示调用 nn.Module 类的构造函数，用于初始化继承自 nn.Module 的子类的基本功能\n",
    "\n",
    "        self.emb = emb\n",
    "        self.heads = heads\n",
    "        self.mask = mask\n",
    "\n",
    "        self.tokeys = nn.Linear(emb, emb * heads, bias=False)\n",
    "        self.toqueries = nn.Linear(emb, emb * heads, bias=False)\n",
    "        self.tovalues = nn.Linear(emb, emb * heads, bias=False)#将输入 x 映射到键（keys）、查询（queries）和值（values）空间的线性变换\n",
    "\n",
    "        self.unifyheads = nn.Linear(heads * emb, emb)#heads * emb 表示输入特征的大小，emb 表示输出特征的大小。\n",
    "\n",
    "    def forward(self, x):#输入 x 的形状为 (b, t, e)，其中 b 是批量大小，t 是序列长度，e 是嵌入维度。首先，通过线性变换将输入分别映射到键、查询和值的空间，并将维度进行调整，使其适应自注意力计算的需求\n",
    "\n",
    "        b, t, e = x.size()\n",
    "        h = self.heads#在 SelfAttention 类的前向传播函数中，h = self.heads 是将类的 self.heads 属性赋值给局部变量 h。self.heads 表示模型中的注意力头数，而 h 则是用于表示头数的变量\n",
    "        assert e == self.emb# 断言语句，用于检查变量 e 是否等于模型的 self.emb 属性. 如果断言条件为 False，则会触发断言错误，并抛出异常。\n",
    "\n",
    "        keys    = self.tokeys(x)   .view(b, t, h, e)\n",
    "        queries = self.toqueries(x).view(b, t, h, e)\n",
    "        values  = self.tovalues(x) .view(b, t, h, e)#self.tovalues(x) 表示将输入张量 x 经过线性变换 self.tovalues，得到值表示，形状为 (b, t, h * e). b 表示批量大小，t 表示序列长度，h 表示注意力头数，e 表示特征维度。通过变换操作，将输入张量的特征维度转换为 (h * e)，并在维度上扩展为 (b, t, h, e) 的形状，以便后续的自注意力计算\n",
    "\n",
    "        # compute scaled dot-product self-attention\n",
    "\n",
    "        # - fold heads into the batch dimension\n",
    "        keys = keys.transpose(1, 2).contiguous().view(b * h, t, e)\n",
    "        queries = queries.transpose(1, 2).contiguous().view(b * h, t, e)\n",
    "        values = values.transpose(1, 2).contiguous().view(b * h, t, e)\n",
    "        #首先，使用 transpose 将维度 1 和维度 2 进行转置，以便在后续计算中，序列长度 t 可以成为注意力矩阵的行数，而特征维度 e 可以成为注意力矩阵的列数。然后，使用 contiguous 确保张量在内存中是连续存储的\n",
    "        #使用 view 将形状为 (b, h, t, e) 的张量重塑为形状为 (b * h, t, e) 的张量。这样做是为了将注意力头数 h 与批量大小 b 进行合并，形成一个新的批量维度\n",
    "        queries = queries / (e ** (1/4))\n",
    "        keys    = keys / (e ** (1/4))#对 queries 和 keys 进行缩放，除以 (e ** (1/4))，这是为了缩放注意力矩阵的值，使得在计算注意力概率时更稳定。\n",
    "        # - Instead of dividing the dot products by sqrt(e), we scale the keys and values.\n",
    "        #   This should be more memory efficient\n",
    "\n",
    "        # - get dot product of queries and keys, and scale\n",
    "        dot = torch.bmm(queries, keys.transpose(1, 2))#使用批量矩阵乘法 torch.bmm 计算查询向量和键向量之间的点积.点积操作会将查询向量的每个查询与键向量的每个键进行相乘，并将结果按键的维度进行求和。这将产生一个注意力矩阵，其形状为 (b * h, t, t)，其中每个元素表示查询与键之间的相似度或相关性\n",
    "\n",
    "        assert dot.size() == (b*h, t, t)\n",
    "\n",
    "        if self.mask: # mask out the lower half of the dot matrix,including the diagonal\n",
    "            mask_(dot, maskval=float('-inf'), mask_diagonal=False) #如果 self.mask 为真，将屏蔽掉 dot 矩阵的下三角部分，包括对角线。mask_() 函数被用于执行屏蔽操作。\n",
    "\n",
    "        dot = F.softmax(dot, dim=2) # dot now has row-wise self-attention probabilities 通过在维度2上对 dot 进行 softmax 操作，得到行级别的自注意力概率\n",
    "\n",
    "        assert not contains_nan(dot[:, 1:, :]) # only the forst row may contain nan\n",
    "\n",
    "        if self.mask == 'first':# 如果 self.mask 为 'first'，则将 dot 的第一行克隆为新的张量，并将其置为零。这是为了处理在 softmax 操作中可能导致除以零的情况，从而避免产生 NaN 值\n",
    "            dot = dot.clone()\n",
    "            dot[:, :1, :] = 0.0\n",
    "            # - The first row of the first attention matrix is entirely masked out, so the softmax operation results\n",
    "            #   in a division by zero. We set this row to zero by hand to get rid of the NaNs\n",
    "\n",
    "        # apply the self attention to the values\n",
    "        out = torch.bmm(dot, values).view(b, h, t, e) #自注意力概率矩阵 dot 与值矩阵 values 执行矩阵乘法，得到经过自注意力机制处理后的输出\n",
    "\n",
    "        # swap h, t back, unify heads\n",
    "        out = out.transpose(1, 2).contiguous().view(b, t, h * e) #通过交换 h 和 t 的顺序，并将头数 h 与特征维度 e 相乘，将输出 out 的形状转换为 (b, t, h * e)\n",
    "\n",
    "        return self.unifyheads(out)"
   ]
  },
  {
   "cell_type": "code",
   "execution_count": 5,
   "metadata": {},
   "outputs": [],
   "source": [
    "# Transformer Block\n",
    "\n",
    "class TransformerBlock(nn.Module):#Transformer Block 是 Transformer 模型的基本构建块之一，它由自注意力层、前馈神经网络层和残差连接组成。\n",
    "    def __init__(self, emb, heads, mask, seq_length, ff_hidden_mult=4, dropout=0.5):\n",
    "        super().__init__()\n",
    "\n",
    "        self.attention = SelfAttention(emb, heads=heads, mask=mask)#自注意力层，用于对输入进行自注意力计算\n",
    "        self.mask = mask\n",
    "\n",
    "        self.norm1 = nn.LayerNorm(emb)#两个 Layer Normalization 层，用于对自注意力层输出和前馈神经网络层输出进行归一化\n",
    "        self.norm2 = nn.LayerNorm(emb)\n",
    "\n",
    "        self.ff = nn.Sequential(\n",
    "            nn.Linear(emb, ff_hidden_mult * emb),#线性变换层，它将输入的特征维度 emb 转换为 ff_hidden_mult * emb 的维度。\n",
    "            nn.ReLU(), #这是一个 ReLU 激活函数，它对线性变换的输出进行非线性变换，引入非线性性质\n",
    "            nn.Linear(ff_hidden_mult * emb, emb) #另一个线性变换层，它将前一层的输出维度 ff_hidden_mult * emb 转换回原始的特征维度 emb\n",
    "        )#self.ff 是一个 nn.Sequential 对象，它定义了一个前馈神经网络层。这个前馈神经网络层由两个线性变换层和一个 ReLU 激活函数组成。通过这个前馈神经网络层，模型可以对输入的特征进行非线性变换和映射。这有助于模型学习更复杂的特征表示和抽象\n",
    "        #因为在 Transformer 模型中的每个编码层中，存在一个前馈神经网络（Feed-Forward Neural Network）层，用于引入非线性性质和增加模型的表示能力。该前馈神经网络层通常由两个线性变换（nn.Linear）和一个非线性激活函数（如 ReLU）组成。\n",
    "        #在该前馈神经网络层中，将输入特征的维度从 emb 转换为 ff_hidden_mult * emb，其中 ff_hidden_mult 是一个超参数，通常设置为大于 1 的值。这样做的目的是通过引入更高维度的表示空间和非线性变换，使模型能够学习更复杂的特征和模式。\n",
    "        #在前馈神经网络层后面，通过另一个线性变换将维度从 ff_hidden_mult * emb 转换回原始的特征维度 emb。这样做是为了保持编码层的输出与输入的维度一致，以便能够进行残差连接（residual connection），从而更好地传递和保留原始输入的信息。\n",
    "        #通过引入非线性性质和通过线性变换改变特征维度的方式，前馈神经网络层在编码层中增加了模型的非线性表示能力，同时保持了输入和输出的一致性，有助于模型进行更高级的特征提取和表示学习。\n",
    "        \n",
    "        self.do = nn.Dropout(dropout)# Dropout 层，用于在训练过程中进行随机失活以防止过拟合。\n",
    "\n",
    "    def forward(self, x):#定义了 TransformerBlock 的前向传播过程。\n",
    "\n",
    "        attended = self.attention(x) #将输入 x 传递给自注意力层（self.attention），以计算自注意力概率矩阵\n",
    "\n",
    "        x = self.norm1(attended + x) #将自注意力层的输出（attended）与输入 x 相加，并应用层归一化（self.norm1）来得到规范化后的输出\n",
    "\n",
    "        x = self.do(x) #应用丢弃（dropout）操作（self.do）来对输出进行正则化，防止过拟合\n",
    "\n",
    "        fedforward = self.ff(x)#将前一步骤的输出 x 传递给前馈神经网络层（self.ff），进行非线性变换\n",
    "\n",
    "        x = self.norm2(fedforward + x)#将前馈神经网络层的输出（fedforward）与之前的输出 x 相加，并再次应用层归一化\n",
    "\n",
    "        x = self.do(x)\n",
    "\n",
    "        return x\n",
    "    #通过以上步骤，TransformerBlock 实现了一个 Transformer 模型中的一个编码层，其中包括了自注意力机制、前馈神经网络和残差连接。这些操作有助于模型进行特征提取和表示学习，从而实现对输入序列的编码\n"
   ]
  },
  {
   "cell_type": "code",
   "execution_count": 6,
   "metadata": {},
   "outputs": [],
   "source": [
    "class MultiTaskRTransformer(nn.Module):\n",
    "    def __init__(self, emb, heads, depth, seq_length, num_tokens, num_classes_volatility, num_classes_movement, max_pool=True, dropout=0.0):\n",
    "        \"\"\"\n",
    "        :param emb: Embedding dimension\n",
    "        :param heads: nr. of attention heads\n",
    "        :param depth: Number of transformer blocks\n",
    "        :param seq_length: Expected maximum sequence length\n",
    "        :param num_tokens: Number of tokens (usually words) in the vocabulary\n",
    "        :param num_classes: Number of classes.\n",
    "        :param max_pool: If true, use global max pooling in the last layer. If false, use global\n",
    "                         average pooling.\n",
    "        \"\"\"\n",
    "        super().__init__()\n",
    "\n",
    "        self.num_tokens, self.max_pool = num_tokens, max_pool\n",
    "\n",
    "        self.token_embedding = nn.Embedding(embedding_dim=emb, num_embeddings=num_tokens)\n",
    "        self.pos_embedding = nn.Embedding(embedding_dim=emb, num_embeddings=seq_length)\n",
    "\n",
    "        tblocks = []\n",
    "        for i in range(depth):\n",
    "            tblocks.append(\n",
    "                TransformerBlock(emb=emb, heads=heads, seq_length=seq_length, mask=False, dropout=dropout))\n",
    "\n",
    "        self.tblocks = nn.Sequential(*tblocks)\n",
    "        \n",
    "        self.toprobs_volatility = nn.Linear(emb, num_classes_volatility)\n",
    "        self.toprobs_movement = nn.Linear(emb, num_classes_movement)\n",
    "\n",
    "        self.do = nn.Dropout(dropout)\n",
    "\n",
    "    def forward(self, x):\n",
    "        sentences_emb = x\n",
    "        b, t, e = x.size()\n",
    "\n",
    "        positions = self.pos_embedding(torch.arange(t).long())[None, :, :].expand(b, t, e)\n",
    "        x = sentences_emb + positions\n",
    "        x = self.do(x)\n",
    "\n",
    "        x = self.tblocks(x)\n",
    "\n",
    "        x = x.max(dim=1)[0] if self.max_pool else x.mean(dim=1)\n",
    "        \n",
    "        logits_volatility = self.toprobs_volatility(x)\n",
    "        logits_movement = self.toprobs_movement(x)\n",
    "\n",
    "        return logits_volatility, logits_movement"
   ]
  },
  {
   "cell_type": "code",
   "execution_count": 7,
   "metadata": {},
   "outputs": [],
   "source": [
    "# Format Dataset\n",
    "import torch.nn.utils.rnn as rnn_utils\n",
    "from torch.utils import data\n",
    "\n",
    "def pad_texts(texts, padding_value=0):\n",
    "    max_length = max(len(text) for text in texts)\n",
    "    padded_texts = [torch.cat([torch.tensor(text), torch.full((max_length - len(text), *text.shape[1:]), padding_value)], dim=0) for text in texts]\n",
    "    return torch.stack(padded_texts)\n",
    "\n",
    "class Dataset(data.Dataset):\n",
    "    def __init__(self, texts, labels, features, types, audio):\n",
    "        'Initialization'\n",
    "        self.labels = labels\n",
    "        self.features = features\n",
    "        self.types = types\n",
    "        self.texts = pad_texts(texts)\n",
    "        self.audio = audio\n",
    "\n",
    "        \n",
    "    def __len__(self):\n",
    "        'Denotes the total number of samples'\n",
    "        return len(self.labels)\n",
    "    \n",
    "    def __getitem__(self, index):\n",
    "        'Generates one sample of data'\n",
    "        # Select sample\n",
    "        if torch.is_tensor(index):\n",
    "            index = index.tolist()#您检查index是否是一个张量对象，如果是，您将其转换为Python列表。这是为了兼容处理张量索引和标量索引的情况。\n",
    "\n",
    "        # Load data and get label\n",
    "        X = self.texts[index]\n",
    "        y = self.labels[index]\n",
    "        z = self.features[index]\n",
    "        ty = self.types[index]\n",
    "        a = self.types[index]\n",
    "        # Pad X to make all sequences have the same length\n",
    "        X_padded = rnn_utils.pad_sequence([torch.tensor(x) for x in X], batch_first=True)\n",
    "\n",
    "        y = torch.tensor(y, dtype=torch.float32)\n",
    "        z = torch.tensor(z, dtype=torch.float32)\n",
    "        ty = torch.tensor(ty, dtype=torch.float32)\n",
    "        a = torch.tensor(ty, dtype=torch.float32)\n",
    "        y = torch.unsqueeze(y, 0)  # Convert y to shape (1, num_samples)\n",
    "        z = torch.unsqueeze(z, 0)  # Convert z to shape (1, num_samples)\n",
    "        ty = torch.unsqueeze(ty, 0)\n",
    "        a = torch.unsqueeze(a, 0)\n",
    "\n",
    "        return X_padded, y, z, ty, a"
   ]
  },
  {
   "cell_type": "code",
   "execution_count": 8,
   "metadata": {},
   "outputs": [],
   "source": [
    "# Load your own the whole dataset\n",
    "import numpy as np\n",
    "\n",
    "# Load volatility embeddings and labels\n",
    "volatility_emb = np.load(\"volatility_embed_3days.npy\")\n",
    "volatility_labels = np.load(\"volatility_label_3days.npy\")\n",
    "volatility_features = np.load(\"volatility_features_3days.npy\", allow_pickle=True)\n",
    "volatility_type = np.load(\"volatility_type_3days.npy\",allow_pickle=True)\n",
    "\n",
    "# Load movement embeddings and labels\n",
    "movement_emb = np.load(\"movement_embed_3days.npy\")\n",
    "movement_labels = np.load(\"movement_label_3days.npy\")\n",
    "movement_features = np.load(\"movement_features_3days.npy\", allow_pickle=True)\n",
    "movement_type = np.load(\"volatility_type_3days.npy\",allow_pickle=True)\n",
    "\n",
    "volatility_emb = volatility_emb.astype(np.float32)\n",
    "movement_emb = movement_emb.astype(np.float32)\n",
    "\n",
    "TEXT_emb = np.concatenate((volatility_emb, movement_emb))\n",
    "LABEL_emb = np.concatenate((volatility_labels, movement_labels))\n",
    "LABEL_emb = LABEL_emb.astype(np.float32)\n",
    "NUM_emb = np.concatenate((volatility_features, movement_features))\n",
    "TYPE_emb = np.concatenate((volatility_type, movement_type))\n",
    "Audio_emb = np.load(\"sorted_audio_3days.npy\", allow_pickle=True)"
   ]
  },
  {
   "cell_type": "code",
   "execution_count": 9,
   "metadata": {},
   "outputs": [],
   "source": [
    "# Main function\n",
    "\n",
    "from sklearn.model_selection import train_test_split\n",
    "\n",
    "import torch\n",
    "from torch import nn\n",
    "from torch.autograd import Variable\n",
    "import torch.nn.functional as F\n",
    "\n",
    "import numpy as np\n",
    "\n",
    "from argparse import ArgumentParser\n",
    "from torch.utils.tensorboard import SummaryWriter\n",
    "import pandas as pd\n",
    "import random, sys, math, gzip\n",
    "\n",
    "from tqdm import tqdm\n",
    "from tqdm import tqdm_notebook\n",
    "import time\n",
    "import matplotlib.pyplot as plt\n",
    "\n",
    "NUM_CLS1 = 1\n",
    "NUM_CLS2 = 2\n",
    "def collate_fn(batch):\n",
    "    # Split the batch into separate lists of inputs, labels, and features\n",
    "    inputs, labels, features, types, audio = zip(*batch)\n",
    "\n",
    "    # Pad the sequences using pad_sequence\n",
    "    inputs = pad_sequence_with_padding_value(inputs, batch_first=True, padding_value=0)\n",
    "    labels = torch.stack(labels)\n",
    "    features = [pad_sequence_with_padding_value([torch.tensor(seq)], batch_first=True, padding_value=0) for seq in features]\n",
    "    types = [pad_sequence_with_padding_value([torch.tensor(seq)], batch_first=True, padding_value=0) for seq in types]\n",
    "    audio = [pad_sequence_with_padding_value([torch.tensor(seq)], batch_first=True, padding_value=0) for seq in audio]\n",
    "\n",
    "    return inputs, labels, features, types, audio\n",
    "\n",
    "def pad_sequence_with_padding_value(sequences, padding_value=0, batch_first=True):\n",
    "    max_len = max(len(seq) for seq in sequences)\n",
    "    padded_sequences = [torch.cat([seq, torch.full((max_len - len(seq), *seq.shape[1:]), padding_value)], dim=0) for seq in sequences]\n",
    "    return torch.stack(padded_sequences, dim=0) if batch_first else torch.stack(padded_sequences, dim=1)\n",
    "\n",
    "def go(arg):\n",
    "    \"\"\"\n",
    "    Creates and trains a basic transformer for any regression task.\n",
    "    \"\"\"\n",
    "\n",
    "    if arg.final:#arg.final 为真,按照 8:2 的比例划分为训练集和验证集。\n",
    "\n",
    "        train, val = train_test_split(TEXT_emb, test_size=0.2)\n",
    "        train_label, val_label = train_test_split(LABEL_emb, test_size=0.2)\n",
    "        train_num, val_num = train_test_split(NUM_emb, test_size=0.2)\n",
    "        train_type, val_type = train_test_split(TYPE_emb, test_size=0.2)\n",
    "        train_audio, val_audio = train_test_split(Audio_emb, test_size=0.2)\n",
    "        training_set = Dataset(train, train_label, train_num, train_type, train_audio)#使用 torch.utils.data.DataLoader 创建了训练集和验证集的数据加载器，用于批量加载数据进行训练和评估。\n",
    "        val_set = Dataset(val, val_label, val_num, val_type, val_audio)\n",
    "    else:\n",
    "        train, val = train_test_split(TEXT_emb, test_size=0.2)\n",
    "        train_label, val_label = train_test_split(LABEL_emb, test_size=0.2)\n",
    "        train_num, val_num = train_test_split(NUM_emb, test_size=0.2)\n",
    "        train_type, val_type = train_test_split(TYPE_emb, test_size=0.2)\n",
    "        train_audio, val_audio = train_test_split(Audio_emb, test_size=0.2)\n",
    "        train, val = train_test_split(train, test_size=0.2)#当 arg.final 为假时，即非最终情况，首先进行一次训练集和验证集的划分，然后再次对训练集和验证集进行划分的目的是为了创建更小的训练集和验证集.这种两次划分的方式可以帮助在较小的数据集上进行快速实验和调试，从而更高效地调整模型的超参数、模型结构等，以达到更好的性能和泛化能力\n",
    "        train_label, val_label = train_test_split(train_label, test_size=0.2)\n",
    "        train_num, val_num = train_test_split(train_num, test_size=0.2)\n",
    "        train_type, val_type = train_test_split(train_type, test_size=0.2)\n",
    "        train_audio, val_audio = train_test_split(train_audio, test_size=0.2)\n",
    "\n",
    "        training_set = Dataset(train, train_label, train_num, train_type, train_audio)#使用 torch.utils.data.DataLoader 创建了训练集和验证集的数据加载器，用于批量加载数据进行训练和评估。\n",
    "        val_set = Dataset(val, val_label, val_num, val_type, val_audio)\n",
    "\n",
    "    trainloader = torch.utils.data.DataLoader(training_set, batch_size=arg.batch_size, shuffle=False, num_workers=0)\n",
    "    testloader = torch.utils.data.DataLoader(val_set, batch_size=arg.batch_size, shuffle=False, num_workers=0, collate_fn=collate_fn)\n",
    "    print('training examples', len(training_set))\n",
    "    #print(f'- nr. of {\"test\" if arg.final else \"validation\"} examples {len(test_iter)}')\n",
    "\n",
    "    if arg.final:\n",
    "          print('test examples', len(val_set))\n",
    "    else:\n",
    "          print('validation examples', len(val_set))\n",
    "    #如果arg.final为True，则表示当前是最终的测试阶段，使用的是测试集。因此，打印语句print('test examples', len(val_set))输出测试集的样本数量。\n",
    "    #如果arg.final为False，则表示当前是验证阶段，使用的是验证集。因此，打印语句print('validation examples', len(val_set))输出验证集的样本数量。\n",
    "\n",
    "    # create the model\n",
    "    model = MultiTaskRTransformer(emb=arg.embedding_size, heads=arg.num_heads, depth=arg.depth, \\\n",
    "                         seq_length=arg.max_length, num_tokens=arg.vocab_size, num_classes_volatility=NUM_CLS1, num_classes_movement=NUM_CLS2, max_pool=arg.max_pool)\n",
    "    #     if torch.cuda.is_available():\n",
    "    #         model.cuda()\n",
    "    criterion_volatility = nn.CrossEntropyLoss()\n",
    "    criterion_movement = nn.CrossEntropyLoss()\n",
    "    opt = torch.optim.Adam(lr=arg.lr, params=model.parameters())#使用Adam优化器进行参数优化，其中学习率由arg.lr指定\n",
    "\n",
    "    # Define the weights for each task\n",
    "    weight_volatility = 0.7  # Weight for volatility task\n",
    "    weight_movement = 1-weight_volatility   # Weight for movement task\n",
    "    # training loop\n",
    "    seen = 0#记录已经处理的样本数\n",
    "    evaluation= {'epoch': [] ,'Train Accuracy': [], 'Test Accuracy' :[]}#epoch用于记录训练的轮数，Train Accuracy用于记录每轮训练后模型在训练集上的准确率，Test Accuracy用于记录每轮训练后模型在测试集上的准确率。\n",
    "    for e in tqdm_notebook(range(arg.num_epochs)):\n",
    "        train_loss_tol = 0.0\n",
    "        print('\\n epoch ' ,e)\n",
    "        model.train(True)#启用训练模式\n",
    "\n",
    "        for i, data in tqdm_notebook(enumerate(trainloader)):\n",
    "            if i > 2:\n",
    "                break\n",
    "            # learning rate warmup学习率预热\n",
    "            # - we linearly increase the learning rate from 10e-10 to arg.lr over the first\n",
    "            #   few thousand batches\n",
    "            if arg.lr_warmup > 0 and seen < arg.lr_warmup:\n",
    "                lr = max((arg.lr / arg.lr_warmup) * seen, 1e-10)\n",
    "                opt.lr = lr\n",
    "\n",
    "            opt.zero_grad()#清零优化器的梯度\n",
    "\n",
    "            inputs, labels, features, types, audio = data\n",
    "            inputs = Variable(inputs.type(torch.FloatTensor))#将输入数据转换为FloatTensor类型，并将其封装在Variable中（用于自动求导）\n",
    "            # labels = torch.tensor(labels, dtype=torch.float32)\n",
    "            labels = labels.clone().detach()#克隆并分离标签，并将其转换为浮点型\n",
    "            features = torch.tensor(features, dtype=torch.float32)\n",
    "            features = features.clone().detach()\n",
    "            types = torch.tensor(types, dtype=torch.float32)\n",
    "            types = types.clone().detach()\n",
    "            audio = torch.tensor(audio, dtype=torch.float32)\n",
    "            audio = types.clone().detach()\n",
    "            if inputs.size(1) > arg.max_length:\n",
    "                inputs = inputs[:, :arg.max_length, :]#如果输入数据的长度超过了arg.max_length，则进行截断处理\n",
    "                inputs = inputs.long()  # Convert inputs to Long (int64) tensor\n",
    "                \n",
    "            volatility_predictions, movement_predictions = model(inputs)  # Calculate predictions\n",
    "            volatility_predictions = torch.unsqueeze(volatility_predictions, 0)\n",
    "            movement_predictions = torch.unsqueeze(movement_predictions, 0)\n",
    "            # print(out)\n",
    "            volatility_predictions, movement_predictions = volatility_predictions.float(), movement_predictions.float()\n",
    "            labels = labels.float()\n",
    "            features = features.float()\n",
    "            # print(out.shape,labels.shape)\n",
    "\n",
    "            # Calculate losses\n",
    "            loss_volatility = F.mse_loss(volatility_predictions, labels[0])* weight_volatility  # Assuming labels[0] is volatility label\n",
    "            loss_movement = F.mse_loss(movement_predictions, labels[0])* weight_movement\n",
    "            \n",
    "            train_loss_tol = loss_volatility + loss_movement#累加训练损失\n",
    "\n",
    "            train_loss_tol.backward()#反向传播计算梯度\n",
    "\n",
    "            # clip gradients\n",
    "            # - If the total gradient vector has a length > 1, we clip it back down to 1.\n",
    "            if arg.gradient_clipping > 0.0:\n",
    "                nn.utils.clip_grad_norm_(model.parameters(), arg.gradient_clipping)#调用nn.utils.clip_grad_norm_函数，传入模型的参数和梯度裁剪阈值作为参数，对模型的梯度进行裁剪。裁剪操作的目的是限制梯度的范数，以防止梯度爆炸的问题\n",
    "\n",
    "            opt.step()#更新模型的参数\n",
    "\n",
    "            seen += inputs.size(0)#更新迭代次数seen,增加当前批次的样本数量\n",
    "            # tbw.add_scalar('classification/train-loss', float(loss.item()), seen)\n",
    "        # print('train_loss: ',train_loss_tol)\n",
    "        train_loss_tol = train_loss_tol /( i +1)#计算训练损失的平均值\n",
    "        with torch.no_grad():#上下文管理器，表示接下来的计算不会对梯度产生影响\n",
    "            \n",
    "            volatility_predictions, movement_predictions = model(inputs)\n",
    "            model.train(False)#进入评估模式\n",
    "            tot, cor= 0.0, 0.0\n",
    "\n",
    "            loss_test = 0.0#初始化测试集的损失loss_test为0.0\n",
    "            for i, data in tqdm_notebook(enumerate(testloader)):\n",
    "                if i > 2:\n",
    "                    break\n",
    "                inputs, labels, features, types, audio = data\n",
    "                inputs = torch.tensor(inputs, dtype=torch.float32)\n",
    "                labels = torch.tensor(labels, dtype=torch.float32)\n",
    "                features = [torch.tensor(seq, dtype=torch.float32) for seq in features]  # Convert each feature sequence to a tensor\n",
    "                types = [torch.tensor(seq, dtype=torch.float32) for seq in types]\n",
    "                types = [torch.tensor(seq, dtype=torch.float32) for seq in audio]\n",
    "                if inputs.size(1) > arg.max_length:\n",
    "                    inputs = inputs[:, :arg.max_length, :]\n",
    "                inputs = inputs.long()  # Convert inputs to Long (int64) tensor\n",
    "                \n",
    "                # Calculate losses\n",
    "                volatility_predictions, movement_predictions = model(inputs)\n",
    "                \n",
    "                loss_volatility = F.mse_loss(volatility_predictions, labels[0])* weight_volatility  # Assuming labels[0] is volatility label\n",
    "                loss_movement = F.mse_loss(movement_predictions, labels[0])* weight_movement  # Assuming labels[1] is movement label\n",
    "                loss_test = loss_volatility + loss_movement#累加训练损失\n",
    "\n",
    "                acc = loss_test.item()\n",
    "            if arg.final:\n",
    "                print('test accuracy', acc)\n",
    "            else:\n",
    "                print('validation accuracy', acc)#准确率计算实际上是损失值而不是准确率\n",
    "\n",
    "        #torch.save(model, './checkpoint/epoch' +str(e) +'.pth')\n",
    "        torch.save(model, '\\\\Users\\\\zc22364\\\\Downloads\\\\HTML_partial_reproduction-main\\\\HTML_partial_reproduction-main\\\\checkpoint\\\\epoch' +str(e) +'.pth')\n",
    "        # print(train_loss_tol)\n",
    "        # print(acc)\n",
    "        train_loss_tol = train_loss_tol.detach().numpy()\n",
    "        evaluation['epoch'].append(e)\n",
    "        evaluation['Train Accuracy'].append(train_loss_tol)#实际上存储的是训练集的损失值\n",
    "        evaluation['Test Accuracy'].append(acc)#测试集/验证集的准确率\n",
    "\n",
    "\n",
    "    evaluation = pd.DataFrame(evaluation)\n",
    "    evaluation.sort_values([\"Test Accuracy\"] ,ascending=True ,inplace=True)\n",
    "\n",
    "    return evaluation\n",
    "    # tbw.add_scalar('classification/test-loss', float(loss.item()), e)"
   ]
  },
  {
   "cell_type": "code",
   "execution_count": 10,
   "metadata": {},
   "outputs": [
    {
     "name": "stdout",
     "output_type": "stream",
     "text": [
      "training examples 720\n",
      "validation examples 180\n"
     ]
    },
    {
     "name": "stderr",
     "output_type": "stream",
     "text": [
      "c:\\Users\\zc22364\\AppData\\Local\\anaconda3\\envs\\tf\\lib\\site-packages\\ipykernel_launcher.py:95: TqdmDeprecationWarning: This function will be removed in tqdm==5.0.0\n",
      "Please use `tqdm.notebook.tqdm` instead of `tqdm.tqdm_notebook`\n"
     ]
    },
    {
     "data": {
      "application/vnd.jupyter.widget-view+json": {
       "model_id": "48e0343704154cf7a90a22ae379bef95",
       "version_major": 2,
       "version_minor": 0
      },
      "text/plain": [
       "  0%|          | 0/50 [00:00<?, ?it/s]"
      ]
     },
     "metadata": {},
     "output_type": "display_data"
    },
    {
     "name": "stdout",
     "output_type": "stream",
     "text": [
      "\n",
      " epoch  0\n"
     ]
    },
    {
     "name": "stderr",
     "output_type": "stream",
     "text": [
      "c:\\Users\\zc22364\\AppData\\Local\\anaconda3\\envs\\tf\\lib\\site-packages\\ipykernel_launcher.py:100: TqdmDeprecationWarning: This function will be removed in tqdm==5.0.0\n",
      "Please use `tqdm.notebook.tqdm` instead of `tqdm.tqdm_notebook`\n"
     ]
    },
    {
     "data": {
      "application/vnd.jupyter.widget-view+json": {
       "model_id": "84e08ea9bbfd415fbabec7191e04264c",
       "version_major": 2,
       "version_minor": 0
      },
      "text/plain": [
       "0it [00:00, ?it/s]"
      ]
     },
     "metadata": {},
     "output_type": "display_data"
    },
    {
     "name": "stderr",
     "output_type": "stream",
     "text": [
      "c:\\Users\\zc22364\\AppData\\Local\\anaconda3\\envs\\tf\\lib\\site-packages\\ipykernel_launcher.py:35: UserWarning: To copy construct from a tensor, it is recommended to use sourceTensor.clone().detach() or sourceTensor.clone().detach().requires_grad_(True), rather than torch.tensor(sourceTensor).\n",
      "c:\\Users\\zc22364\\AppData\\Local\\anaconda3\\envs\\tf\\lib\\site-packages\\ipykernel_launcher.py:116: UserWarning: To copy construct from a tensor, it is recommended to use sourceTensor.clone().detach() or sourceTensor.clone().detach().requires_grad_(True), rather than torch.tensor(sourceTensor).\n",
      "c:\\Users\\zc22364\\AppData\\Local\\anaconda3\\envs\\tf\\lib\\site-packages\\ipykernel_launcher.py:118: UserWarning: To copy construct from a tensor, it is recommended to use sourceTensor.clone().detach() or sourceTensor.clone().detach().requires_grad_(True), rather than torch.tensor(sourceTensor).\n",
      "c:\\Users\\zc22364\\AppData\\Local\\anaconda3\\envs\\tf\\lib\\site-packages\\ipykernel_launcher.py:134: UserWarning: Using a target size (torch.Size([1])) that is different to the input size (torch.Size([1, 1, 1])). This will likely lead to incorrect results due to broadcasting. Please ensure they have the same size.\n",
      "c:\\Users\\zc22364\\AppData\\Local\\anaconda3\\envs\\tf\\lib\\site-packages\\ipykernel_launcher.py:135: UserWarning: Using a target size (torch.Size([1])) that is different to the input size (torch.Size([1, 1, 2])). This will likely lead to incorrect results due to broadcasting. Please ensure they have the same size.\n",
      "c:\\Users\\zc22364\\AppData\\Local\\anaconda3\\envs\\tf\\lib\\site-packages\\ipykernel_launcher.py:159: TqdmDeprecationWarning: This function will be removed in tqdm==5.0.0\n",
      "Please use `tqdm.notebook.tqdm` instead of `tqdm.tqdm_notebook`\n"
     ]
    },
    {
     "data": {
      "application/vnd.jupyter.widget-view+json": {
       "model_id": "7a1681800c0e4a4b988852983744aa3e",
       "version_major": 2,
       "version_minor": 0
      },
      "text/plain": [
       "0it [00:00, ?it/s]"
      ]
     },
     "metadata": {},
     "output_type": "display_data"
    },
    {
     "name": "stderr",
     "output_type": "stream",
     "text": [
      "c:\\Users\\zc22364\\AppData\\Local\\anaconda3\\envs\\tf\\lib\\site-packages\\ipykernel_launcher.py:31: UserWarning: To copy construct from a tensor, it is recommended to use sourceTensor.clone().detach() or sourceTensor.clone().detach().requires_grad_(True), rather than torch.tensor(sourceTensor).\n",
      "c:\\Users\\zc22364\\AppData\\Local\\anaconda3\\envs\\tf\\lib\\site-packages\\ipykernel_launcher.py:32: UserWarning: To copy construct from a tensor, it is recommended to use sourceTensor.clone().detach() or sourceTensor.clone().detach().requires_grad_(True), rather than torch.tensor(sourceTensor).\n",
      "c:\\Users\\zc22364\\AppData\\Local\\anaconda3\\envs\\tf\\lib\\site-packages\\ipykernel_launcher.py:163: UserWarning: To copy construct from a tensor, it is recommended to use sourceTensor.clone().detach() or sourceTensor.clone().detach().requires_grad_(True), rather than torch.tensor(sourceTensor).\n",
      "c:\\Users\\zc22364\\AppData\\Local\\anaconda3\\envs\\tf\\lib\\site-packages\\ipykernel_launcher.py:164: UserWarning: To copy construct from a tensor, it is recommended to use sourceTensor.clone().detach() or sourceTensor.clone().detach().requires_grad_(True), rather than torch.tensor(sourceTensor).\n",
      "c:\\Users\\zc22364\\AppData\\Local\\anaconda3\\envs\\tf\\lib\\site-packages\\ipykernel_launcher.py:165: UserWarning: To copy construct from a tensor, it is recommended to use sourceTensor.clone().detach() or sourceTensor.clone().detach().requires_grad_(True), rather than torch.tensor(sourceTensor).\n",
      "c:\\Users\\zc22364\\AppData\\Local\\anaconda3\\envs\\tf\\lib\\site-packages\\ipykernel_launcher.py:166: UserWarning: To copy construct from a tensor, it is recommended to use sourceTensor.clone().detach() or sourceTensor.clone().detach().requires_grad_(True), rather than torch.tensor(sourceTensor).\n",
      "c:\\Users\\zc22364\\AppData\\Local\\anaconda3\\envs\\tf\\lib\\site-packages\\ipykernel_launcher.py:174: UserWarning: Using a target size (torch.Size([1])) that is different to the input size (torch.Size([1, 1])). This will likely lead to incorrect results due to broadcasting. Please ensure they have the same size.\n",
      "c:\\Users\\zc22364\\AppData\\Local\\anaconda3\\envs\\tf\\lib\\site-packages\\ipykernel_launcher.py:175: UserWarning: Using a target size (torch.Size([1])) that is different to the input size (torch.Size([1, 2])). This will likely lead to incorrect results due to broadcasting. Please ensure they have the same size.\n"
     ]
    },
    {
     "name": "stdout",
     "output_type": "stream",
     "text": [
      "validation accuracy 6.410564422607422\n",
      "\n",
      " epoch  1\n"
     ]
    },
    {
     "data": {
      "application/vnd.jupyter.widget-view+json": {
       "model_id": "0d048e00d7764d98944b787dd6fdcb49",
       "version_major": 2,
       "version_minor": 0
      },
      "text/plain": [
       "0it [00:00, ?it/s]"
      ]
     },
     "metadata": {},
     "output_type": "display_data"
    },
    {
     "data": {
      "application/vnd.jupyter.widget-view+json": {
       "model_id": "d675357864e645b79f88f30ebc65221b",
       "version_major": 2,
       "version_minor": 0
      },
      "text/plain": [
       "0it [00:00, ?it/s]"
      ]
     },
     "metadata": {},
     "output_type": "display_data"
    },
    {
     "name": "stdout",
     "output_type": "stream",
     "text": [
      "validation accuracy 1.8733327388763428\n",
      "\n",
      " epoch  2\n"
     ]
    },
    {
     "data": {
      "application/vnd.jupyter.widget-view+json": {
       "model_id": "715bf4bbba69499abda11bb990cecc60",
       "version_major": 2,
       "version_minor": 0
      },
      "text/plain": [
       "0it [00:00, ?it/s]"
      ]
     },
     "metadata": {},
     "output_type": "display_data"
    },
    {
     "data": {
      "application/vnd.jupyter.widget-view+json": {
       "model_id": "e695972682a44c81ba034e86e76c7fe9",
       "version_major": 2,
       "version_minor": 0
      },
      "text/plain": [
       "0it [00:00, ?it/s]"
      ]
     },
     "metadata": {},
     "output_type": "display_data"
    },
    {
     "name": "stdout",
     "output_type": "stream",
     "text": [
      "validation accuracy 0.2572217881679535\n",
      "\n",
      " epoch  3\n"
     ]
    },
    {
     "data": {
      "application/vnd.jupyter.widget-view+json": {
       "model_id": "02c194dc5ac141d6b70824debc5b4cc7",
       "version_major": 2,
       "version_minor": 0
      },
      "text/plain": [
       "0it [00:00, ?it/s]"
      ]
     },
     "metadata": {},
     "output_type": "display_data"
    },
    {
     "data": {
      "application/vnd.jupyter.widget-view+json": {
       "model_id": "3d61e9514af54186a79536c2ebfad807",
       "version_major": 2,
       "version_minor": 0
      },
      "text/plain": [
       "0it [00:00, ?it/s]"
      ]
     },
     "metadata": {},
     "output_type": "display_data"
    },
    {
     "name": "stdout",
     "output_type": "stream",
     "text": [
      "validation accuracy 0.14740058779716492\n",
      "\n",
      " epoch  4\n"
     ]
    },
    {
     "data": {
      "application/vnd.jupyter.widget-view+json": {
       "model_id": "f1ff56e8b2954a2a8762c86b887a5220",
       "version_major": 2,
       "version_minor": 0
      },
      "text/plain": [
       "0it [00:00, ?it/s]"
      ]
     },
     "metadata": {},
     "output_type": "display_data"
    },
    {
     "data": {
      "application/vnd.jupyter.widget-view+json": {
       "model_id": "a96c856523924d728fafb5390b293ef5",
       "version_major": 2,
       "version_minor": 0
      },
      "text/plain": [
       "0it [00:00, ?it/s]"
      ]
     },
     "metadata": {},
     "output_type": "display_data"
    },
    {
     "name": "stdout",
     "output_type": "stream",
     "text": [
      "validation accuracy 0.1986200511455536\n",
      "\n",
      " epoch  5\n"
     ]
    },
    {
     "data": {
      "application/vnd.jupyter.widget-view+json": {
       "model_id": "a772a80ec7a44d829bb7944357534a9d",
       "version_major": 2,
       "version_minor": 0
      },
      "text/plain": [
       "0it [00:00, ?it/s]"
      ]
     },
     "metadata": {},
     "output_type": "display_data"
    },
    {
     "data": {
      "application/vnd.jupyter.widget-view+json": {
       "model_id": "f251c78c293e41bab6d42175cde90cc1",
       "version_major": 2,
       "version_minor": 0
      },
      "text/plain": [
       "0it [00:00, ?it/s]"
      ]
     },
     "metadata": {},
     "output_type": "display_data"
    },
    {
     "name": "stdout",
     "output_type": "stream",
     "text": [
      "validation accuracy 0.10338476300239563\n",
      "\n",
      " epoch  6\n"
     ]
    },
    {
     "data": {
      "application/vnd.jupyter.widget-view+json": {
       "model_id": "c779988d24174125ad066298f97597ca",
       "version_major": 2,
       "version_minor": 0
      },
      "text/plain": [
       "0it [00:00, ?it/s]"
      ]
     },
     "metadata": {},
     "output_type": "display_data"
    },
    {
     "data": {
      "application/vnd.jupyter.widget-view+json": {
       "model_id": "aa95c520d6ca44b4a36c5356fbb41a66",
       "version_major": 2,
       "version_minor": 0
      },
      "text/plain": [
       "0it [00:00, ?it/s]"
      ]
     },
     "metadata": {},
     "output_type": "display_data"
    },
    {
     "name": "stdout",
     "output_type": "stream",
     "text": [
      "validation accuracy 0.013862662017345428\n",
      "\n",
      " epoch  7\n"
     ]
    },
    {
     "data": {
      "application/vnd.jupyter.widget-view+json": {
       "model_id": "c9b06ae373994a19854d9ef365bd4add",
       "version_major": 2,
       "version_minor": 0
      },
      "text/plain": [
       "0it [00:00, ?it/s]"
      ]
     },
     "metadata": {},
     "output_type": "display_data"
    },
    {
     "data": {
      "application/vnd.jupyter.widget-view+json": {
       "model_id": "3ecec4abc07e424baf7e14e498adbde1",
       "version_major": 2,
       "version_minor": 0
      },
      "text/plain": [
       "0it [00:00, ?it/s]"
      ]
     },
     "metadata": {},
     "output_type": "display_data"
    },
    {
     "name": "stdout",
     "output_type": "stream",
     "text": [
      "validation accuracy 0.012778866104781628\n",
      "\n",
      " epoch  8\n"
     ]
    },
    {
     "data": {
      "application/vnd.jupyter.widget-view+json": {
       "model_id": "2bc893652c544151928191af4335d3fc",
       "version_major": 2,
       "version_minor": 0
      },
      "text/plain": [
       "0it [00:00, ?it/s]"
      ]
     },
     "metadata": {},
     "output_type": "display_data"
    },
    {
     "data": {
      "application/vnd.jupyter.widget-view+json": {
       "model_id": "8dea1754acb044a789b5d7952794d6ff",
       "version_major": 2,
       "version_minor": 0
      },
      "text/plain": [
       "0it [00:00, ?it/s]"
      ]
     },
     "metadata": {},
     "output_type": "display_data"
    },
    {
     "name": "stdout",
     "output_type": "stream",
     "text": [
      "validation accuracy 0.02012035623192787\n",
      "\n",
      " epoch  9\n"
     ]
    },
    {
     "data": {
      "application/vnd.jupyter.widget-view+json": {
       "model_id": "7022917763304f7f9de17d1e2a2aecef",
       "version_major": 2,
       "version_minor": 0
      },
      "text/plain": [
       "0it [00:00, ?it/s]"
      ]
     },
     "metadata": {},
     "output_type": "display_data"
    },
    {
     "data": {
      "application/vnd.jupyter.widget-view+json": {
       "model_id": "2495981397b849b0954e9bea04f6aaea",
       "version_major": 2,
       "version_minor": 0
      },
      "text/plain": [
       "0it [00:00, ?it/s]"
      ]
     },
     "metadata": {},
     "output_type": "display_data"
    },
    {
     "name": "stdout",
     "output_type": "stream",
     "text": [
      "validation accuracy 0.00593994278460741\n",
      "\n",
      " epoch  10\n"
     ]
    },
    {
     "data": {
      "application/vnd.jupyter.widget-view+json": {
       "model_id": "2af6fe5a90974e7888b813b02ab27917",
       "version_major": 2,
       "version_minor": 0
      },
      "text/plain": [
       "0it [00:00, ?it/s]"
      ]
     },
     "metadata": {},
     "output_type": "display_data"
    },
    {
     "data": {
      "application/vnd.jupyter.widget-view+json": {
       "model_id": "e7f374e8dc1042de939ddacbb628b9c6",
       "version_major": 2,
       "version_minor": 0
      },
      "text/plain": [
       "0it [00:00, ?it/s]"
      ]
     },
     "metadata": {},
     "output_type": "display_data"
    },
    {
     "name": "stdout",
     "output_type": "stream",
     "text": [
      "validation accuracy 0.00917623471468687\n",
      "\n",
      " epoch  11\n"
     ]
    },
    {
     "data": {
      "application/vnd.jupyter.widget-view+json": {
       "model_id": "73c04b4171d543eaab43f486b89ba548",
       "version_major": 2,
       "version_minor": 0
      },
      "text/plain": [
       "0it [00:00, ?it/s]"
      ]
     },
     "metadata": {},
     "output_type": "display_data"
    },
    {
     "data": {
      "application/vnd.jupyter.widget-view+json": {
       "model_id": "623e38df8d444fcb848c9076c728dc3c",
       "version_major": 2,
       "version_minor": 0
      },
      "text/plain": [
       "0it [00:00, ?it/s]"
      ]
     },
     "metadata": {},
     "output_type": "display_data"
    },
    {
     "name": "stdout",
     "output_type": "stream",
     "text": [
      "validation accuracy 0.008259383961558342\n",
      "\n",
      " epoch  12\n"
     ]
    },
    {
     "data": {
      "application/vnd.jupyter.widget-view+json": {
       "model_id": "1ec73ad334b14aa180b0c4c184907122",
       "version_major": 2,
       "version_minor": 0
      },
      "text/plain": [
       "0it [00:00, ?it/s]"
      ]
     },
     "metadata": {},
     "output_type": "display_data"
    },
    {
     "data": {
      "application/vnd.jupyter.widget-view+json": {
       "model_id": "bf92f87cf03148ecad182f2b362fd26a",
       "version_major": 2,
       "version_minor": 0
      },
      "text/plain": [
       "0it [00:00, ?it/s]"
      ]
     },
     "metadata": {},
     "output_type": "display_data"
    },
    {
     "name": "stdout",
     "output_type": "stream",
     "text": [
      "validation accuracy 0.0037435204721987247\n",
      "\n",
      " epoch  13\n"
     ]
    },
    {
     "data": {
      "application/vnd.jupyter.widget-view+json": {
       "model_id": "64dc8347e00943bba747f6f0e8fdcb2c",
       "version_major": 2,
       "version_minor": 0
      },
      "text/plain": [
       "0it [00:00, ?it/s]"
      ]
     },
     "metadata": {},
     "output_type": "display_data"
    },
    {
     "data": {
      "application/vnd.jupyter.widget-view+json": {
       "model_id": "707318f2eb0948ebb1c03ab7776539eb",
       "version_major": 2,
       "version_minor": 0
      },
      "text/plain": [
       "0it [00:00, ?it/s]"
      ]
     },
     "metadata": {},
     "output_type": "display_data"
    },
    {
     "name": "stdout",
     "output_type": "stream",
     "text": [
      "validation accuracy 0.0037543922662734985\n",
      "\n",
      " epoch  14\n"
     ]
    },
    {
     "data": {
      "application/vnd.jupyter.widget-view+json": {
       "model_id": "d3d3b52fc474415885ad471fcf4576e1",
       "version_major": 2,
       "version_minor": 0
      },
      "text/plain": [
       "0it [00:00, ?it/s]"
      ]
     },
     "metadata": {},
     "output_type": "display_data"
    },
    {
     "data": {
      "application/vnd.jupyter.widget-view+json": {
       "model_id": "808153a07d9b4649a7197a994d4f048a",
       "version_major": 2,
       "version_minor": 0
      },
      "text/plain": [
       "0it [00:00, ?it/s]"
      ]
     },
     "metadata": {},
     "output_type": "display_data"
    },
    {
     "name": "stdout",
     "output_type": "stream",
     "text": [
      "validation accuracy 0.0035349326208233833\n",
      "\n",
      " epoch  15\n"
     ]
    },
    {
     "data": {
      "application/vnd.jupyter.widget-view+json": {
       "model_id": "d2a919cecc6a4eaaa1e7e00667ebd01c",
       "version_major": 2,
       "version_minor": 0
      },
      "text/plain": [
       "0it [00:00, ?it/s]"
      ]
     },
     "metadata": {},
     "output_type": "display_data"
    },
    {
     "data": {
      "application/vnd.jupyter.widget-view+json": {
       "model_id": "7467ffc4407a4c7289a0c5f5114f8ddb",
       "version_major": 2,
       "version_minor": 0
      },
      "text/plain": [
       "0it [00:00, ?it/s]"
      ]
     },
     "metadata": {},
     "output_type": "display_data"
    },
    {
     "name": "stdout",
     "output_type": "stream",
     "text": [
      "validation accuracy 0.0023975803051143885\n",
      "\n",
      " epoch  16\n"
     ]
    },
    {
     "data": {
      "application/vnd.jupyter.widget-view+json": {
       "model_id": "7e945a1cc72241e689e212fcada7d19a",
       "version_major": 2,
       "version_minor": 0
      },
      "text/plain": [
       "0it [00:00, ?it/s]"
      ]
     },
     "metadata": {},
     "output_type": "display_data"
    },
    {
     "data": {
      "application/vnd.jupyter.widget-view+json": {
       "model_id": "d734e77a594e4bb9b29845ec90b8c9d1",
       "version_major": 2,
       "version_minor": 0
      },
      "text/plain": [
       "0it [00:00, ?it/s]"
      ]
     },
     "metadata": {},
     "output_type": "display_data"
    },
    {
     "name": "stdout",
     "output_type": "stream",
     "text": [
      "validation accuracy 0.00334648578427732\n",
      "\n",
      " epoch  17\n"
     ]
    },
    {
     "data": {
      "application/vnd.jupyter.widget-view+json": {
       "model_id": "f6b2ae7618be4718b6785a9e8b2b67db",
       "version_major": 2,
       "version_minor": 0
      },
      "text/plain": [
       "0it [00:00, ?it/s]"
      ]
     },
     "metadata": {},
     "output_type": "display_data"
    },
    {
     "data": {
      "application/vnd.jupyter.widget-view+json": {
       "model_id": "8335cafe0181464aa1b21b5166e3d164",
       "version_major": 2,
       "version_minor": 0
      },
      "text/plain": [
       "0it [00:00, ?it/s]"
      ]
     },
     "metadata": {},
     "output_type": "display_data"
    },
    {
     "name": "stdout",
     "output_type": "stream",
     "text": [
      "validation accuracy 0.0014991670614108443\n",
      "\n",
      " epoch  18\n"
     ]
    },
    {
     "data": {
      "application/vnd.jupyter.widget-view+json": {
       "model_id": "208ce38e72f342679c3b32af4d96c8d5",
       "version_major": 2,
       "version_minor": 0
      },
      "text/plain": [
       "0it [00:00, ?it/s]"
      ]
     },
     "metadata": {},
     "output_type": "display_data"
    },
    {
     "data": {
      "application/vnd.jupyter.widget-view+json": {
       "model_id": "2983ba85d4ef4d6fb89583818cdbe5aa",
       "version_major": 2,
       "version_minor": 0
      },
      "text/plain": [
       "0it [00:00, ?it/s]"
      ]
     },
     "metadata": {},
     "output_type": "display_data"
    },
    {
     "name": "stdout",
     "output_type": "stream",
     "text": [
      "validation accuracy 0.001108009833842516\n",
      "\n",
      " epoch  19\n"
     ]
    },
    {
     "data": {
      "application/vnd.jupyter.widget-view+json": {
       "model_id": "f38b5859e61d42faa26aa2e18d876fff",
       "version_major": 2,
       "version_minor": 0
      },
      "text/plain": [
       "0it [00:00, ?it/s]"
      ]
     },
     "metadata": {},
     "output_type": "display_data"
    },
    {
     "data": {
      "application/vnd.jupyter.widget-view+json": {
       "model_id": "383e6cdd531a41e9be34730080873118",
       "version_major": 2,
       "version_minor": 0
      },
      "text/plain": [
       "0it [00:00, ?it/s]"
      ]
     },
     "metadata": {},
     "output_type": "display_data"
    },
    {
     "name": "stdout",
     "output_type": "stream",
     "text": [
      "validation accuracy 0.0009438294800929725\n",
      "\n",
      " epoch  20\n"
     ]
    },
    {
     "data": {
      "application/vnd.jupyter.widget-view+json": {
       "model_id": "bfbec50190474e66a6aa77539ff15514",
       "version_major": 2,
       "version_minor": 0
      },
      "text/plain": [
       "0it [00:00, ?it/s]"
      ]
     },
     "metadata": {},
     "output_type": "display_data"
    },
    {
     "data": {
      "application/vnd.jupyter.widget-view+json": {
       "model_id": "930ce5c255d64f4382a4c75a19251e0c",
       "version_major": 2,
       "version_minor": 0
      },
      "text/plain": [
       "0it [00:00, ?it/s]"
      ]
     },
     "metadata": {},
     "output_type": "display_data"
    },
    {
     "name": "stdout",
     "output_type": "stream",
     "text": [
      "validation accuracy 0.000715055619366467\n",
      "\n",
      " epoch  21\n"
     ]
    },
    {
     "data": {
      "application/vnd.jupyter.widget-view+json": {
       "model_id": "1f7fd6f721894a0f9078bebb4171c4f5",
       "version_major": 2,
       "version_minor": 0
      },
      "text/plain": [
       "0it [00:00, ?it/s]"
      ]
     },
     "metadata": {},
     "output_type": "display_data"
    },
    {
     "data": {
      "application/vnd.jupyter.widget-view+json": {
       "model_id": "a55bc0aeadcd4a1480992a054d6236ce",
       "version_major": 2,
       "version_minor": 0
      },
      "text/plain": [
       "0it [00:00, ?it/s]"
      ]
     },
     "metadata": {},
     "output_type": "display_data"
    },
    {
     "name": "stdout",
     "output_type": "stream",
     "text": [
      "validation accuracy 0.0014036240754649043\n",
      "\n",
      " epoch  22\n"
     ]
    },
    {
     "data": {
      "application/vnd.jupyter.widget-view+json": {
       "model_id": "fbb460282dc54d6bbe59ad7a2d80e2aa",
       "version_major": 2,
       "version_minor": 0
      },
      "text/plain": [
       "0it [00:00, ?it/s]"
      ]
     },
     "metadata": {},
     "output_type": "display_data"
    },
    {
     "data": {
      "application/vnd.jupyter.widget-view+json": {
       "model_id": "962599f4a03c42aab5e209d504ee8e5c",
       "version_major": 2,
       "version_minor": 0
      },
      "text/plain": [
       "0it [00:00, ?it/s]"
      ]
     },
     "metadata": {},
     "output_type": "display_data"
    },
    {
     "name": "stdout",
     "output_type": "stream",
     "text": [
      "validation accuracy 0.00034344394225627184\n",
      "\n",
      " epoch  23\n"
     ]
    },
    {
     "data": {
      "application/vnd.jupyter.widget-view+json": {
       "model_id": "71010feaf09548fda9fed43517dce7e9",
       "version_major": 2,
       "version_minor": 0
      },
      "text/plain": [
       "0it [00:00, ?it/s]"
      ]
     },
     "metadata": {},
     "output_type": "display_data"
    },
    {
     "data": {
      "application/vnd.jupyter.widget-view+json": {
       "model_id": "fea2875ccaaa442ba3e5edc44d5d7cfd",
       "version_major": 2,
       "version_minor": 0
      },
      "text/plain": [
       "0it [00:00, ?it/s]"
      ]
     },
     "metadata": {},
     "output_type": "display_data"
    },
    {
     "name": "stdout",
     "output_type": "stream",
     "text": [
      "validation accuracy 0.0009734910563565791\n",
      "\n",
      " epoch  24\n"
     ]
    },
    {
     "data": {
      "application/vnd.jupyter.widget-view+json": {
       "model_id": "82fb11045d2b48f4b20e59bf2a81bebb",
       "version_major": 2,
       "version_minor": 0
      },
      "text/plain": [
       "0it [00:00, ?it/s]"
      ]
     },
     "metadata": {},
     "output_type": "display_data"
    },
    {
     "data": {
      "application/vnd.jupyter.widget-view+json": {
       "model_id": "31aad57cca32416d97aa1e51c7003fc0",
       "version_major": 2,
       "version_minor": 0
      },
      "text/plain": [
       "0it [00:00, ?it/s]"
      ]
     },
     "metadata": {},
     "output_type": "display_data"
    },
    {
     "name": "stdout",
     "output_type": "stream",
     "text": [
      "validation accuracy 0.0004722082521766424\n",
      "\n",
      " epoch  25\n"
     ]
    },
    {
     "data": {
      "application/vnd.jupyter.widget-view+json": {
       "model_id": "636592e4f12b4e8dbd628c111de58d0d",
       "version_major": 2,
       "version_minor": 0
      },
      "text/plain": [
       "0it [00:00, ?it/s]"
      ]
     },
     "metadata": {},
     "output_type": "display_data"
    },
    {
     "data": {
      "application/vnd.jupyter.widget-view+json": {
       "model_id": "4a7b956a6d374a63a923b2d5b9489ff7",
       "version_major": 2,
       "version_minor": 0
      },
      "text/plain": [
       "0it [00:00, ?it/s]"
      ]
     },
     "metadata": {},
     "output_type": "display_data"
    },
    {
     "name": "stdout",
     "output_type": "stream",
     "text": [
      "validation accuracy 0.0006315610371530056\n",
      "\n",
      " epoch  26\n"
     ]
    },
    {
     "data": {
      "application/vnd.jupyter.widget-view+json": {
       "model_id": "a8f025f438fd4899920496120bce3fbd",
       "version_major": 2,
       "version_minor": 0
      },
      "text/plain": [
       "0it [00:00, ?it/s]"
      ]
     },
     "metadata": {},
     "output_type": "display_data"
    },
    {
     "data": {
      "application/vnd.jupyter.widget-view+json": {
       "model_id": "48e0f751424c46a08ed79fced62a1c14",
       "version_major": 2,
       "version_minor": 0
      },
      "text/plain": [
       "0it [00:00, ?it/s]"
      ]
     },
     "metadata": {},
     "output_type": "display_data"
    },
    {
     "name": "stdout",
     "output_type": "stream",
     "text": [
      "validation accuracy 0.001005450147204101\n",
      "\n",
      " epoch  27\n"
     ]
    },
    {
     "data": {
      "application/vnd.jupyter.widget-view+json": {
       "model_id": "a65caa4d64844f699b1e35c76a78e876",
       "version_major": 2,
       "version_minor": 0
      },
      "text/plain": [
       "0it [00:00, ?it/s]"
      ]
     },
     "metadata": {},
     "output_type": "display_data"
    },
    {
     "data": {
      "application/vnd.jupyter.widget-view+json": {
       "model_id": "2073aa8c3eb24d298c6c32a4ab077c3e",
       "version_major": 2,
       "version_minor": 0
      },
      "text/plain": [
       "0it [00:00, ?it/s]"
      ]
     },
     "metadata": {},
     "output_type": "display_data"
    },
    {
     "name": "stdout",
     "output_type": "stream",
     "text": [
      "validation accuracy 0.0005462355329655111\n",
      "\n",
      " epoch  28\n"
     ]
    },
    {
     "data": {
      "application/vnd.jupyter.widget-view+json": {
       "model_id": "0295b440dde945c1bbd5ae30ca85aa73",
       "version_major": 2,
       "version_minor": 0
      },
      "text/plain": [
       "0it [00:00, ?it/s]"
      ]
     },
     "metadata": {},
     "output_type": "display_data"
    },
    {
     "data": {
      "application/vnd.jupyter.widget-view+json": {
       "model_id": "f31397cf011f474ea10a67b2d9a376bd",
       "version_major": 2,
       "version_minor": 0
      },
      "text/plain": [
       "0it [00:00, ?it/s]"
      ]
     },
     "metadata": {},
     "output_type": "display_data"
    },
    {
     "name": "stdout",
     "output_type": "stream",
     "text": [
      "validation accuracy 0.0007429530960507691\n",
      "\n",
      " epoch  29\n"
     ]
    },
    {
     "data": {
      "application/vnd.jupyter.widget-view+json": {
       "model_id": "9cfdaa02b305422ea491c554da74d61d",
       "version_major": 2,
       "version_minor": 0
      },
      "text/plain": [
       "0it [00:00, ?it/s]"
      ]
     },
     "metadata": {},
     "output_type": "display_data"
    },
    {
     "data": {
      "application/vnd.jupyter.widget-view+json": {
       "model_id": "fa5fd8e148b7429bb2ab9038dbc19cc0",
       "version_major": 2,
       "version_minor": 0
      },
      "text/plain": [
       "0it [00:00, ?it/s]"
      ]
     },
     "metadata": {},
     "output_type": "display_data"
    },
    {
     "name": "stdout",
     "output_type": "stream",
     "text": [
      "validation accuracy 0.0006142731290310621\n",
      "\n",
      " epoch  30\n"
     ]
    },
    {
     "data": {
      "application/vnd.jupyter.widget-view+json": {
       "model_id": "10481da550b8440eb98c8cf0be90de4a",
       "version_major": 2,
       "version_minor": 0
      },
      "text/plain": [
       "0it [00:00, ?it/s]"
      ]
     },
     "metadata": {},
     "output_type": "display_data"
    },
    {
     "data": {
      "application/vnd.jupyter.widget-view+json": {
       "model_id": "08df93fc44be4d07aec1f985e67a80ce",
       "version_major": 2,
       "version_minor": 0
      },
      "text/plain": [
       "0it [00:00, ?it/s]"
      ]
     },
     "metadata": {},
     "output_type": "display_data"
    },
    {
     "name": "stdout",
     "output_type": "stream",
     "text": [
      "validation accuracy 0.0005402732640504837\n",
      "\n",
      " epoch  31\n"
     ]
    },
    {
     "data": {
      "application/vnd.jupyter.widget-view+json": {
       "model_id": "baaece51d4f64521b2c90b97f09df08f",
       "version_major": 2,
       "version_minor": 0
      },
      "text/plain": [
       "0it [00:00, ?it/s]"
      ]
     },
     "metadata": {},
     "output_type": "display_data"
    },
    {
     "data": {
      "application/vnd.jupyter.widget-view+json": {
       "model_id": "b6ce9fccd7cb45fca14a6d1454528a57",
       "version_major": 2,
       "version_minor": 0
      },
      "text/plain": [
       "0it [00:00, ?it/s]"
      ]
     },
     "metadata": {},
     "output_type": "display_data"
    },
    {
     "name": "stdout",
     "output_type": "stream",
     "text": [
      "validation accuracy 0.000818399537820369\n",
      "\n",
      " epoch  32\n"
     ]
    },
    {
     "data": {
      "application/vnd.jupyter.widget-view+json": {
       "model_id": "f4dae6ac51d94eaca47c4c4d12e243c2",
       "version_major": 2,
       "version_minor": 0
      },
      "text/plain": [
       "0it [00:00, ?it/s]"
      ]
     },
     "metadata": {},
     "output_type": "display_data"
    },
    {
     "data": {
      "application/vnd.jupyter.widget-view+json": {
       "model_id": "5caa5af1443e4626840dabf6d55b9e14",
       "version_major": 2,
       "version_minor": 0
      },
      "text/plain": [
       "0it [00:00, ?it/s]"
      ]
     },
     "metadata": {},
     "output_type": "display_data"
    },
    {
     "name": "stdout",
     "output_type": "stream",
     "text": [
      "validation accuracy 0.0007401095353998244\n",
      "\n",
      " epoch  33\n"
     ]
    },
    {
     "data": {
      "application/vnd.jupyter.widget-view+json": {
       "model_id": "fe47ac69c5a1443494f1ae73edc1eb9c",
       "version_major": 2,
       "version_minor": 0
      },
      "text/plain": [
       "0it [00:00, ?it/s]"
      ]
     },
     "metadata": {},
     "output_type": "display_data"
    },
    {
     "data": {
      "application/vnd.jupyter.widget-view+json": {
       "model_id": "190bd020cbcd4ee1b6a7794beee71bc8",
       "version_major": 2,
       "version_minor": 0
      },
      "text/plain": [
       "0it [00:00, ?it/s]"
      ]
     },
     "metadata": {},
     "output_type": "display_data"
    },
    {
     "name": "stdout",
     "output_type": "stream",
     "text": [
      "validation accuracy 0.000544989772606641\n",
      "\n",
      " epoch  34\n"
     ]
    },
    {
     "data": {
      "application/vnd.jupyter.widget-view+json": {
       "model_id": "4648d96aa5824c79b89b8b365cedbacd",
       "version_major": 2,
       "version_minor": 0
      },
      "text/plain": [
       "0it [00:00, ?it/s]"
      ]
     },
     "metadata": {},
     "output_type": "display_data"
    },
    {
     "data": {
      "application/vnd.jupyter.widget-view+json": {
       "model_id": "6650294bb8af468b8d5a0a88df062b76",
       "version_major": 2,
       "version_minor": 0
      },
      "text/plain": [
       "0it [00:00, ?it/s]"
      ]
     },
     "metadata": {},
     "output_type": "display_data"
    },
    {
     "name": "stdout",
     "output_type": "stream",
     "text": [
      "validation accuracy 0.0006593001889996231\n",
      "\n",
      " epoch  35\n"
     ]
    },
    {
     "data": {
      "application/vnd.jupyter.widget-view+json": {
       "model_id": "e4d3f86ade3e445dab594d0dcb6696bd",
       "version_major": 2,
       "version_minor": 0
      },
      "text/plain": [
       "0it [00:00, ?it/s]"
      ]
     },
     "metadata": {},
     "output_type": "display_data"
    },
    {
     "data": {
      "application/vnd.jupyter.widget-view+json": {
       "model_id": "7f4418bfe0264197bb18bbed8d0eec02",
       "version_major": 2,
       "version_minor": 0
      },
      "text/plain": [
       "0it [00:00, ?it/s]"
      ]
     },
     "metadata": {},
     "output_type": "display_data"
    },
    {
     "name": "stdout",
     "output_type": "stream",
     "text": [
      "validation accuracy 0.0007295465911738575\n",
      "\n",
      " epoch  36\n"
     ]
    },
    {
     "data": {
      "application/vnd.jupyter.widget-view+json": {
       "model_id": "6796c19fbdad49eea6a94c6bf252c3a2",
       "version_major": 2,
       "version_minor": 0
      },
      "text/plain": [
       "0it [00:00, ?it/s]"
      ]
     },
     "metadata": {},
     "output_type": "display_data"
    },
    {
     "data": {
      "application/vnd.jupyter.widget-view+json": {
       "model_id": "7bb64037596e4cc9868823c59d5ab60e",
       "version_major": 2,
       "version_minor": 0
      },
      "text/plain": [
       "0it [00:00, ?it/s]"
      ]
     },
     "metadata": {},
     "output_type": "display_data"
    },
    {
     "name": "stdout",
     "output_type": "stream",
     "text": [
      "validation accuracy 0.0006290109013207257\n",
      "\n",
      " epoch  37\n"
     ]
    },
    {
     "data": {
      "application/vnd.jupyter.widget-view+json": {
       "model_id": "ec5e1b2ff46f4d0cbe019c7abec474cb",
       "version_major": 2,
       "version_minor": 0
      },
      "text/plain": [
       "0it [00:00, ?it/s]"
      ]
     },
     "metadata": {},
     "output_type": "display_data"
    },
    {
     "data": {
      "application/vnd.jupyter.widget-view+json": {
       "model_id": "f86978f4d43b4f7bafcf1615b93387e9",
       "version_major": 2,
       "version_minor": 0
      },
      "text/plain": [
       "0it [00:00, ?it/s]"
      ]
     },
     "metadata": {},
     "output_type": "display_data"
    },
    {
     "name": "stdout",
     "output_type": "stream",
     "text": [
      "validation accuracy 0.0006436430849134922\n",
      "\n",
      " epoch  38\n"
     ]
    },
    {
     "data": {
      "application/vnd.jupyter.widget-view+json": {
       "model_id": "20d779d923dd45ecae5da96de6f4a21e",
       "version_major": 2,
       "version_minor": 0
      },
      "text/plain": [
       "0it [00:00, ?it/s]"
      ]
     },
     "metadata": {},
     "output_type": "display_data"
    },
    {
     "data": {
      "application/vnd.jupyter.widget-view+json": {
       "model_id": "5ea77d4a97574cc3a5adfd3a58349481",
       "version_major": 2,
       "version_minor": 0
      },
      "text/plain": [
       "0it [00:00, ?it/s]"
      ]
     },
     "metadata": {},
     "output_type": "display_data"
    },
    {
     "name": "stdout",
     "output_type": "stream",
     "text": [
      "validation accuracy 0.0006864219903945923\n",
      "\n",
      " epoch  39\n"
     ]
    },
    {
     "data": {
      "application/vnd.jupyter.widget-view+json": {
       "model_id": "71d40aaba1934fec861c96ca5bca7b99",
       "version_major": 2,
       "version_minor": 0
      },
      "text/plain": [
       "0it [00:00, ?it/s]"
      ]
     },
     "metadata": {},
     "output_type": "display_data"
    },
    {
     "data": {
      "application/vnd.jupyter.widget-view+json": {
       "model_id": "c564d41fcf214dee9b9585a92478d86e",
       "version_major": 2,
       "version_minor": 0
      },
      "text/plain": [
       "0it [00:00, ?it/s]"
      ]
     },
     "metadata": {},
     "output_type": "display_data"
    },
    {
     "name": "stdout",
     "output_type": "stream",
     "text": [
      "validation accuracy 0.0007013485301285982\n",
      "\n",
      " epoch  40\n"
     ]
    },
    {
     "data": {
      "application/vnd.jupyter.widget-view+json": {
       "model_id": "2b2e143d168349f6938d1ac68346945c",
       "version_major": 2,
       "version_minor": 0
      },
      "text/plain": [
       "0it [00:00, ?it/s]"
      ]
     },
     "metadata": {},
     "output_type": "display_data"
    },
    {
     "data": {
      "application/vnd.jupyter.widget-view+json": {
       "model_id": "2a9b2f5ce6c74d15a44dc006bf74035e",
       "version_major": 2,
       "version_minor": 0
      },
      "text/plain": [
       "0it [00:00, ?it/s]"
      ]
     },
     "metadata": {},
     "output_type": "display_data"
    },
    {
     "name": "stdout",
     "output_type": "stream",
     "text": [
      "validation accuracy 0.000608328846283257\n",
      "\n",
      " epoch  41\n"
     ]
    },
    {
     "data": {
      "application/vnd.jupyter.widget-view+json": {
       "model_id": "71b7cc0b5cef40888505006e455c8dcf",
       "version_major": 2,
       "version_minor": 0
      },
      "text/plain": [
       "0it [00:00, ?it/s]"
      ]
     },
     "metadata": {},
     "output_type": "display_data"
    },
    {
     "data": {
      "application/vnd.jupyter.widget-view+json": {
       "model_id": "9bd43265d9204d8d89c14520e8bf7333",
       "version_major": 2,
       "version_minor": 0
      },
      "text/plain": [
       "0it [00:00, ?it/s]"
      ]
     },
     "metadata": {},
     "output_type": "display_data"
    },
    {
     "name": "stdout",
     "output_type": "stream",
     "text": [
      "validation accuracy 0.0006294563063420355\n",
      "\n",
      " epoch  42\n"
     ]
    },
    {
     "data": {
      "application/vnd.jupyter.widget-view+json": {
       "model_id": "7e2bbe6a1e044ab882f1577b92f00fa7",
       "version_major": 2,
       "version_minor": 0
      },
      "text/plain": [
       "0it [00:00, ?it/s]"
      ]
     },
     "metadata": {},
     "output_type": "display_data"
    },
    {
     "data": {
      "application/vnd.jupyter.widget-view+json": {
       "model_id": "3572b37548d64a42a2365099e7107e6a",
       "version_major": 2,
       "version_minor": 0
      },
      "text/plain": [
       "0it [00:00, ?it/s]"
      ]
     },
     "metadata": {},
     "output_type": "display_data"
    },
    {
     "name": "stdout",
     "output_type": "stream",
     "text": [
      "validation accuracy 0.0007407692610286176\n",
      "\n",
      " epoch  43\n"
     ]
    },
    {
     "data": {
      "application/vnd.jupyter.widget-view+json": {
       "model_id": "a5cf0624b7df432a9515e3802d509f62",
       "version_major": 2,
       "version_minor": 0
      },
      "text/plain": [
       "0it [00:00, ?it/s]"
      ]
     },
     "metadata": {},
     "output_type": "display_data"
    },
    {
     "data": {
      "application/vnd.jupyter.widget-view+json": {
       "model_id": "7829db1af5c542e8b860bb0baaafb86a",
       "version_major": 2,
       "version_minor": 0
      },
      "text/plain": [
       "0it [00:00, ?it/s]"
      ]
     },
     "metadata": {},
     "output_type": "display_data"
    },
    {
     "name": "stdout",
     "output_type": "stream",
     "text": [
      "validation accuracy 0.00073764577973634\n",
      "\n",
      " epoch  44\n"
     ]
    },
    {
     "data": {
      "application/vnd.jupyter.widget-view+json": {
       "model_id": "beebf5b7361c4ef8a8b5b4416bde56c0",
       "version_major": 2,
       "version_minor": 0
      },
      "text/plain": [
       "0it [00:00, ?it/s]"
      ]
     },
     "metadata": {},
     "output_type": "display_data"
    },
    {
     "data": {
      "application/vnd.jupyter.widget-view+json": {
       "model_id": "c71b909a77604fcdb865bdbba5836542",
       "version_major": 2,
       "version_minor": 0
      },
      "text/plain": [
       "0it [00:00, ?it/s]"
      ]
     },
     "metadata": {},
     "output_type": "display_data"
    },
    {
     "name": "stdout",
     "output_type": "stream",
     "text": [
      "validation accuracy 0.0004917075857520103\n",
      "\n",
      " epoch  45\n"
     ]
    },
    {
     "data": {
      "application/vnd.jupyter.widget-view+json": {
       "model_id": "7494d67e09734b9190cc33ab55bace92",
       "version_major": 2,
       "version_minor": 0
      },
      "text/plain": [
       "0it [00:00, ?it/s]"
      ]
     },
     "metadata": {},
     "output_type": "display_data"
    },
    {
     "data": {
      "application/vnd.jupyter.widget-view+json": {
       "model_id": "7b222d6aaf764df6bc20313e4051f2be",
       "version_major": 2,
       "version_minor": 0
      },
      "text/plain": [
       "0it [00:00, ?it/s]"
      ]
     },
     "metadata": {},
     "output_type": "display_data"
    },
    {
     "name": "stdout",
     "output_type": "stream",
     "text": [
      "validation accuracy 0.0004980482626706362\n",
      "\n",
      " epoch  46\n"
     ]
    },
    {
     "data": {
      "application/vnd.jupyter.widget-view+json": {
       "model_id": "aed2af41946a4c87b9476e30ca3157e4",
       "version_major": 2,
       "version_minor": 0
      },
      "text/plain": [
       "0it [00:00, ?it/s]"
      ]
     },
     "metadata": {},
     "output_type": "display_data"
    },
    {
     "data": {
      "application/vnd.jupyter.widget-view+json": {
       "model_id": "824dd571d8f54eb485d5c66be2737b8c",
       "version_major": 2,
       "version_minor": 0
      },
      "text/plain": [
       "0it [00:00, ?it/s]"
      ]
     },
     "metadata": {},
     "output_type": "display_data"
    },
    {
     "name": "stdout",
     "output_type": "stream",
     "text": [
      "validation accuracy 0.0011900088284164667\n",
      "\n",
      " epoch  47\n"
     ]
    },
    {
     "data": {
      "application/vnd.jupyter.widget-view+json": {
       "model_id": "78bc90164f514b6384858da9d8acacc8",
       "version_major": 2,
       "version_minor": 0
      },
      "text/plain": [
       "0it [00:00, ?it/s]"
      ]
     },
     "metadata": {},
     "output_type": "display_data"
    },
    {
     "data": {
      "application/vnd.jupyter.widget-view+json": {
       "model_id": "64de09994c1f461abd9223e0cbcb4753",
       "version_major": 2,
       "version_minor": 0
      },
      "text/plain": [
       "0it [00:00, ?it/s]"
      ]
     },
     "metadata": {},
     "output_type": "display_data"
    },
    {
     "name": "stdout",
     "output_type": "stream",
     "text": [
      "validation accuracy 0.0012596907326951623\n",
      "\n",
      " epoch  48\n"
     ]
    },
    {
     "data": {
      "application/vnd.jupyter.widget-view+json": {
       "model_id": "c849d6e675134d14a357d235699fcad8",
       "version_major": 2,
       "version_minor": 0
      },
      "text/plain": [
       "0it [00:00, ?it/s]"
      ]
     },
     "metadata": {},
     "output_type": "display_data"
    },
    {
     "data": {
      "application/vnd.jupyter.widget-view+json": {
       "model_id": "3ce375c0eca34b59aadac75b665901ef",
       "version_major": 2,
       "version_minor": 0
      },
      "text/plain": [
       "0it [00:00, ?it/s]"
      ]
     },
     "metadata": {},
     "output_type": "display_data"
    },
    {
     "name": "stdout",
     "output_type": "stream",
     "text": [
      "validation accuracy 5.7322424254380167e-05\n",
      "\n",
      " epoch  49\n"
     ]
    },
    {
     "data": {
      "application/vnd.jupyter.widget-view+json": {
       "model_id": "7f8ca765aa8f4519bcf1f0f9f5791570",
       "version_major": 2,
       "version_minor": 0
      },
      "text/plain": [
       "0it [00:00, ?it/s]"
      ]
     },
     "metadata": {},
     "output_type": "display_data"
    },
    {
     "data": {
      "application/vnd.jupyter.widget-view+json": {
       "model_id": "86032ef7be1c443087990dba82181184",
       "version_major": 2,
       "version_minor": 0
      },
      "text/plain": [
       "0it [00:00, ?it/s]"
      ]
     },
     "metadata": {},
     "output_type": "display_data"
    },
    {
     "name": "stdout",
     "output_type": "stream",
     "text": [
      "validation accuracy 7.46762816561386e-05\n"
     ]
    },
    {
     "data": {
      "image/png": "[encoded data removed]",
      "text/plain": [
       "<Figure size 432x288 with 1 Axes>"
      ]
     },
     "metadata": {
      "needs_background": "light"
     },
     "output_type": "display_data"
    }
   ],
   "source": [
    "# Run the main function\n",
    "if __name__ == \"__main__\":\n",
    "\n",
    "    #print('OPTIONS ', options)\n",
    "    # Tuning Parameters:\n",
    "    import easydict\n",
    "    from argparse import ArgumentParser\n",
    "    parser = ArgumentParser()\n",
    "    args = parser.parse_known_args()[0]\n",
    "    #使用 easydict，可以创建一个命名空间对象，该对象具有字典的功能，并允许通过点号操作符来访问和设置键值对。\n",
    "    args = easydict.EasyDict({\n",
    "            \"num_epochs\": 50,\n",
    "            \"batch_size\": 1,\n",
    "            \"lr\": 0.0005,\n",
    "            \"tb_dir\": \"./runs\",\n",
    "            \"final\": False,\n",
    "            \"max_pool\": False,\n",
    "            \"embedding_size\" : 768,\n",
    "            \"vocab_size\" : 50000,\n",
    "            \"max_length\" : 520,\n",
    "            \"num_heads\" : 1,\n",
    "            \"depth\" : 1,\n",
    "            \"seed\" : 1,\n",
    "            \"lr_warmup\" : 500,\n",
    "            \"gradient_clipping\" : 1.0\n",
    "    })\n",
    "    evaluation = go(args)\n",
    "\n",
    "    epoch_numbers = evaluation['epoch']\n",
    "    test_accuracies = evaluation['Test Accuracy']\n",
    "\n",
    "    # 将数据转换为 NumPy 数组\n",
    "    epoch_numbers = np.array(epoch_numbers)\n",
    "    test_accuracies = np.array(test_accuracies)\n",
    "\n",
    "    # 获取排序后的索引\n",
    "    sorted_indices = np.argsort(epoch_numbers)\n",
    "\n",
    "    # 根据排序后的索引获取排序后的数据\n",
    "    sorted_epoch_numbers = epoch_numbers[sorted_indices]\n",
    "    sorted_test_accuracies = test_accuracies[sorted_indices]\n",
    "\n",
    "    # 绘制迭代MSE折线图\n",
    "    plt.plot(sorted_epoch_numbers, sorted_test_accuracies)\n",
    "    plt.xlabel('Epochs')\n",
    "    plt.ylabel('Test Loss')  # 或者 'Test Accuracy'，具体根据你的情况来确定\n",
    "    plt.title('Test Loss Over Epochs')\n",
    "    plt.show()"
   ]
  }
 ],
 "metadata": {
  "kernelspec": {
   "display_name": "finbert",
   "language": "python",
   "name": "python3"
  },
  "language_info": {
   "codemirror_mode": {
    "name": "ipython",
    "version": 3
   },
   "file_extension": ".py",
   "mimetype": "text/x-python",
   "name": "python",
   "nbconvert_exporter": "python",
   "pygments_lexer": "ipython3",
   "version": "3.6.13"
  },
  "orig_nbformat": 4
 },
 "nbformat": 4,
 "nbformat_minor": 2
}
